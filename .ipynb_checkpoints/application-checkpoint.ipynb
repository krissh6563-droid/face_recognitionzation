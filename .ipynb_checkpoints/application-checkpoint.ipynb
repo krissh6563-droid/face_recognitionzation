{
 "cells": [
  {
   "cell_type": "markdown",
   "metadata": {},
   "source": [
    "# Face detection using OpenCV"
   ]
  },
  {
   "cell_type": "code",
   "execution_count": 21,
   "metadata": {},
   "outputs": [],
   "source": [
    "#import OpenCV and its functions\n",
    "import cv2\n",
    "from cv2 import imread\n",
    "from cv2 import imshow\n",
    "from cv2 import waitKey\n",
    "from cv2 import destroyAllWindows\n",
    "from cv2 import rectangle\n",
    "from cv2 import CascadeClassifier\n"
   ]
  },
  {
   "cell_type": "code",
   "execution_count": 22,
   "metadata": {},
   "outputs": [],
   "source": [
    "#Load the image\n",
    "photo = imread('test2.jpg')"
   ]
  },
  {
   "cell_type": "code",
   "execution_count": 23,
   "metadata": {},
   "outputs": [],
   "source": [
    "#Load the pretrained model \n",
    "classifier = CascadeClassifier('haarcascade_frontalface_default.xml')"
   ]
  },
  {
   "cell_type": "code",
   "execution_count": 24,
   "metadata": {},
   "outputs": [
    {
     "name": "stdout",
     "output_type": "stream",
     "text": [
      "[151 146  46  46]\n",
      "[255 147  42  42]\n",
      "[452 262  40  40]\n",
      "[207 263  48  48]\n",
      "[ 97 267  49  49]\n",
      "[317 270  43  43]\n",
      "[313 248  55  55]\n",
      "[257  17  66  66]\n",
      "[335  29  34  34]\n",
      "[366 156  42  42]\n",
      "[504 155  40  40]\n",
      "[127  31  40  40]\n",
      "[218  39  43  43]\n",
      "[427  48  38  38]\n"
     ]
    }
   ],
   "source": [
    "#Perform the face detection on the photo \n",
    "bboxes = classifier.detectMultiScale(photo)\n",
    "for box in bboxes:\n",
    "    print(box)\n",
    "    x, y , width, height = box\n",
    "    x2 , y2 = x + width, y + height\n",
    "    rectangle(photo,(x,y),(x2,y2),(0,0,255),1)"
   ]
  },
  {
   "cell_type": "code",
   "execution_count": 25,
   "metadata": {},
   "outputs": [],
   "source": [
    "#Show the image with rectangle\n",
    "imshow('face detection', photo)\n",
    "waitKey(0)\n",
    "destroyAllWindows()"
   ]
  },
  {
   "cell_type": "markdown",
   "metadata": {},
   "source": [
    "<img src=\"https://3qeqpr26caki16dnhd19sv6by6v-wpengine.netdna-ssl.com/wp-content/uploads/2019/03/Swim-Team-Photograph-With-Faces-Detected-using-OpenCV-Cascade-Classifier-1024x778.png\"/>"
   ]
  },
  {
   "cell_type": "markdown",
   "metadata": {},
   "source": [
    "<img src=\"https://3qeqpr26caki16dnhd19sv6by6v-wpengine.netdna-ssl.com/wp-content/uploads/2019/03/Collage-Students-Photograph-With-Faces-Detected-using-OpenCV-Cascade-Classifier-1024x685.png\"/>"
   ]
  }
 ],
 "metadata": {
  "kernelspec": {
   "display_name": "Python 3",
   "language": "python",
   "name": "python3"
  },
  "language_info": {
   "codemirror_mode": {
    "name": "ipython",
    "version": 3
   },
   "file_extension": ".py",
   "mimetype": "text/x-python",
   "name": "python",
   "nbconvert_exporter": "python",
   "pygments_lexer": "ipython3",
   "version": "3.8.3"
  }
 },
 "nbformat": 4,
 "nbformat_minor": 2
}
